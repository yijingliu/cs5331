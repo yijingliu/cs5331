{
 "cells": [
  {
   "cell_type": "code",
   "execution_count": 5,
   "metadata": {},
   "outputs": [],
   "source": [
    "import numpy as np\n",
    "import pandas as pd\n",
    "\n",
    "import time\n",
    "import os\n",
    "from selenium import webdriver\n",
    "from selenium.webdriver.common.desired_capabilities import DesiredCapabilities\n",
    "from bs4 import BeautifulSoup"
   ]
  },
  {
   "cell_type": "code",
   "execution_count": 6,
   "metadata": {},
   "outputs": [
    {
     "name": "stdout",
     "output_type": "stream",
     "text": [
      "(1111, 3)\n"
     ]
    }
   ],
   "source": [
    "trackers = pd.read_csv(\"trackers.csv\", header=None, na_filter=False)\n",
    "trackers = trackers.values\n",
    "print(trackers.shape)"
   ]
  },
  {
   "cell_type": "code",
   "execution_count": 27,
   "metadata": {
    "scrolled": true
   },
   "outputs": [],
   "source": [
    "firefoxProfile = webdriver.FirefoxProfile()\n",
    "firefoxProfile.set_preference('permissions.default.stylesheet', 2)\n",
    "firefoxProfile.set_preference('permissions.default.image', 2)\n",
    "firefoxProfile.set_preference('dom.ipc.plugins.enabled.libflashplayer.so', False)\n",
    "firefoxProfile.set_preference(\"dom.max_script_run_time\", 5)\n",
    "caps = DesiredCapabilities().FIREFOX\n",
    "caps[\"pageLoadStrategy\"] = \"eager\"\n",
    "driver = webdriver.Firefox(firefox_profile=firefoxProfile, desired_capabilities=caps)\n",
    "\n",
    "trackers_url = []\n",
    "for i in range(trackers.shape[0]):\n",
    "    url = \"https://whotracks.me/trackers/\" + trackers[i][0] + \".html\"\n",
    "    driver.get(url)\n",
    "    htmlSource = driver.page_source\n",
    "    soup = BeautifulSoup(htmlSource)\n",
    "    soup = soup.find(\"div\", {\"id\": \"operates-under\"})\n",
    "    if (soup != None):\n",
    "        operates_under = []\n",
    "        for p in soup([\"p\"]): \n",
    "            operates_under.append(p.text.strip())\n",
    "        trackers_url.append(','.join(operates_under))\n",
    "    else:\n",
    "        trackers_url.append('')"
   ]
  },
  {
   "cell_type": "code",
   "execution_count": 29,
   "metadata": {},
   "outputs": [
    {
     "name": "stdout",
     "output_type": "stream",
     "text": [
      "1111\n"
     ]
    }
   ],
   "source": [
    "print(len(trackers_url))"
   ]
  },
  {
   "cell_type": "code",
   "execution_count": 39,
   "metadata": {},
   "outputs": [],
   "source": [
    "import csv\n",
    "with open('trackers_url.csv', 'w', newline='') as f:\n",
    "    writer = csv.writer(f, delimiter=',', quoting=csv.QUOTE_NONE)\n",
    "    writer.writerow(['tracker', 'company_id', 'category', 'tracker_url'])\n",
    "    for i in range(trackers.shape[0]):\n",
    "        row = []\n",
    "        row.append(trackers[i][0])\n",
    "        row.append(trackers[i][1])\n",
    "        row.append(trackers[i][2])\n",
    "        row.append(trackers_url[i].replace(',', ';'))\n",
    "        writer.writerow(row)"
   ]
  },
  {
   "cell_type": "code",
   "execution_count": null,
   "metadata": {},
   "outputs": [],
   "source": []
  }
 ],
 "metadata": {
  "kernelspec": {
   "display_name": "Python 3",
   "language": "python",
   "name": "python3"
  },
  "language_info": {
   "codemirror_mode": {
    "name": "ipython",
    "version": 3
   },
   "file_extension": ".py",
   "mimetype": "text/x-python",
   "name": "python",
   "nbconvert_exporter": "python",
   "pygments_lexer": "ipython3",
   "version": "3.7.1"
  }
 },
 "nbformat": 4,
 "nbformat_minor": 2
}
