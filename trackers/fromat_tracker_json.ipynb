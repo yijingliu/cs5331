{
 "cells": [
  {
   "cell_type": "code",
   "execution_count": 49,
   "metadata": {},
   "outputs": [],
   "source": [
    "import numpy as np\n",
    "import pandas as pd\n",
    "import json\n",
    "import os"
   ]
  },
  {
   "cell_type": "code",
   "execution_count": 50,
   "metadata": {},
   "outputs": [],
   "source": [
    "trackers = pd.read_csv(\"trackers_url_method.csv\", na_filter=False)\n",
    "categories = trackers.category.unique()\n",
    "\n",
    "for category in categories:\n",
    "    trackers_tmp = trackers[trackers.category == category]\n",
    "    trackers_tmp = trackers_tmp.drop('category', 1)\n",
    "    for index, tracker in trackers_tmp.iterrows():\n",
    "        tracker.tracker_url = tracker.tracker_url.split(\";\")\n",
    "        tracker.trackers_method = tracker.trackers_method.split(\";\")\n",
    "    trackers_tmp = trackers_tmp.to_json(orient='records')\n",
    "\n",
    "    with open(\"json\" + os.sep + category + \".json\", \"w\") as f:\n",
    "        f.write(trackers_tmp) "
   ]
  },
  {
   "cell_type": "code",
   "execution_count": null,
   "metadata": {},
   "outputs": [],
   "source": []
  }
 ],
 "metadata": {
  "kernelspec": {
   "display_name": "Python 3",
   "language": "python",
   "name": "python3"
  },
  "language_info": {
   "codemirror_mode": {
    "name": "ipython",
    "version": 3
   },
   "file_extension": ".py",
   "mimetype": "text/x-python",
   "name": "python",
   "nbconvert_exporter": "python",
   "pygments_lexer": "ipython3",
   "version": "3.7.1"
  }
 },
 "nbformat": 4,
 "nbformat_minor": 2
}
